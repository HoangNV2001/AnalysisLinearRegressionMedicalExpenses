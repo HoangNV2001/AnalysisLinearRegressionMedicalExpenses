{
 "cells": [
  {
   "cell_type": "code",
   "execution_count": 1,
   "id": "9a043f85",
   "metadata": {
    "scrolled": false
   },
   "outputs": [],
   "source": [
    "# install.packages(\"superml\")\n",
    "# install.packages(\"car\")"
   ]
  },
  {
   "cell_type": "code",
   "execution_count": 2,
   "id": "4ac0fe0b",
   "metadata": {
    "collapsed": true
   },
   "outputs": [
    {
     "name": "stderr",
     "output_type": "stream",
     "text": [
      "Registered S3 methods overwritten by 'ggplot2':\n",
      "  method         from \n",
      "  [.quosures     rlang\n",
      "  c.quosures     rlang\n",
      "  print.quosures rlang\n",
      "Warning message:\n",
      "\"package 'superml' was built under R version 3.6.3\"Loading required package: R6\n",
      "Registered S3 method overwritten by 'rvest':\n",
      "  method            from\n",
      "  read_xml.response xml2\n",
      "-- Attaching packages --------------------------------------- tidyverse 1.2.1 --\n",
      "v tibble  2.1.1       v purrr   0.3.2  \n",
      "v tidyr   0.8.3       v dplyr   0.8.0.1\n",
      "v readr   1.3.1       v stringr 1.4.0  \n",
      "v tibble  2.1.1       v forcats 0.4.0  \n",
      "-- Conflicts ------------------------------------------ tidyverse_conflicts() --\n",
      "x dplyr::filter() masks stats::filter()\n",
      "x dplyr::lag()    masks stats::lag()\n",
      "\n",
      "Attaching package: 'reshape2'\n",
      "\n",
      "The following object is masked from 'package:tidyr':\n",
      "\n",
      "    smiths\n",
      "\n",
      "Loading required package: lattice\n",
      "\n",
      "Attaching package: 'caret'\n",
      "\n",
      "The following object is masked from 'package:purrr':\n",
      "\n",
      "    lift\n",
      "\n",
      "Loading required package: carData\n",
      "Warning message:\n",
      "\"package 'carData' was built under R version 3.6.3\"\n",
      "Attaching package: 'car'\n",
      "\n",
      "The following object is masked from 'package:dplyr':\n",
      "\n",
      "    recode\n",
      "\n",
      "The following object is masked from 'package:purrr':\n",
      "\n",
      "    some\n",
      "\n"
     ]
    }
   ],
   "source": [
    "library(ggplot2)\n",
    "library(superml)\n",
    "library(tidyverse)\n",
    "library(reshape2)\n",
    "library(caret)\n",
    "library(car)"
   ]
  },
  {
   "cell_type": "code",
   "execution_count": 3,
   "id": "71cbd9cc",
   "metadata": {
    "scrolled": false
   },
   "outputs": [],
   "source": [
    "options(repr.plot.width=4, repr.plot.height=4)"
   ]
  },
  {
   "cell_type": "markdown",
   "id": "c0f10965",
   "metadata": {},
   "source": [
    "# Dataset"
   ]
  },
  {
   "cell_type": "markdown",
   "id": "ec315fd8",
   "metadata": {},
   "source": [
    "[Medical Cost Personal Dataset - Kaggle](#https://www.kaggle.com/mirichoi0218/insurance)"
   ]
  },
  {
   "cell_type": "code",
   "execution_count": 4,
   "id": "c8b7d7a4",
   "metadata": {
    "scrolled": false
   },
   "outputs": [
    {
     "data": {
      "text/html": [
       "<table>\n",
       "<thead><tr><th scope=col>age</th><th scope=col>sex</th><th scope=col>bmi</th><th scope=col>children</th><th scope=col>smoker</th><th scope=col>region</th><th scope=col>charges</th></tr></thead>\n",
       "<tbody>\n",
       "\t<tr><td>19       </td><td>female   </td><td>27.900   </td><td>0        </td><td>yes      </td><td>southwest</td><td>16884.924</td></tr>\n",
       "\t<tr><td>18       </td><td>male     </td><td>33.770   </td><td>1        </td><td>no       </td><td>southeast</td><td> 1725.552</td></tr>\n",
       "\t<tr><td>28       </td><td>male     </td><td>33.000   </td><td>3        </td><td>no       </td><td>southeast</td><td> 4449.462</td></tr>\n",
       "\t<tr><td>33       </td><td>male     </td><td>22.705   </td><td>0        </td><td>no       </td><td>northwest</td><td>21984.471</td></tr>\n",
       "\t<tr><td>32       </td><td>male     </td><td>28.880   </td><td>0        </td><td>no       </td><td>northwest</td><td> 3866.855</td></tr>\n",
       "\t<tr><td>31       </td><td>female   </td><td>25.740   </td><td>0        </td><td>no       </td><td>southeast</td><td> 3756.622</td></tr>\n",
       "</tbody>\n",
       "</table>\n"
      ],
      "text/latex": [
       "\\begin{tabular}{r|lllllll}\n",
       " age & sex & bmi & children & smoker & region & charges\\\\\n",
       "\\hline\n",
       "\t 19        & female    & 27.900    & 0         & yes       & southwest & 16884.924\\\\\n",
       "\t 18        & male      & 33.770    & 1         & no        & southeast &  1725.552\\\\\n",
       "\t 28        & male      & 33.000    & 3         & no        & southeast &  4449.462\\\\\n",
       "\t 33        & male      & 22.705    & 0         & no        & northwest & 21984.471\\\\\n",
       "\t 32        & male      & 28.880    & 0         & no        & northwest &  3866.855\\\\\n",
       "\t 31        & female    & 25.740    & 0         & no        & southeast &  3756.622\\\\\n",
       "\\end{tabular}\n"
      ],
      "text/markdown": [
       "\n",
       "| age | sex | bmi | children | smoker | region | charges |\n",
       "|---|---|---|---|---|---|---|\n",
       "| 19        | female    | 27.900    | 0         | yes       | southwest | 16884.924 |\n",
       "| 18        | male      | 33.770    | 1         | no        | southeast |  1725.552 |\n",
       "| 28        | male      | 33.000    | 3         | no        | southeast |  4449.462 |\n",
       "| 33        | male      | 22.705    | 0         | no        | northwest | 21984.471 |\n",
       "| 32        | male      | 28.880    | 0         | no        | northwest |  3866.855 |\n",
       "| 31        | female    | 25.740    | 0         | no        | southeast |  3756.622 |\n",
       "\n"
      ],
      "text/plain": [
       "  age sex    bmi    children smoker region    charges  \n",
       "1 19  female 27.900 0        yes    southwest 16884.924\n",
       "2 18  male   33.770 1        no     southeast  1725.552\n",
       "3 28  male   33.000 3        no     southeast  4449.462\n",
       "4 33  male   22.705 0        no     northwest 21984.471\n",
       "5 32  male   28.880 0        no     northwest  3866.855\n",
       "6 31  female 25.740 0        no     southeast  3756.622"
      ]
     },
     "metadata": {},
     "output_type": "display_data"
    }
   ],
   "source": [
    "df <- read.csv(\"Data\\\\insurance.csv\")\n",
    "head(df)"
   ]
  },
  {
   "cell_type": "code",
   "execution_count": 5,
   "id": "0fff116f",
   "metadata": {
    "scrolled": false
   },
   "outputs": [
    {
     "data": {
      "text/html": [
       "<ol class=list-inline>\n",
       "\t<li>1338</li>\n",
       "\t<li>7</li>\n",
       "</ol>\n"
      ],
      "text/latex": [
       "\\begin{enumerate*}\n",
       "\\item 1338\n",
       "\\item 7\n",
       "\\end{enumerate*}\n"
      ],
      "text/markdown": [
       "1. 1338\n",
       "2. 7\n",
       "\n",
       "\n"
      ],
      "text/plain": [
       "[1] 1338    7"
      ]
     },
     "metadata": {},
     "output_type": "display_data"
    }
   ],
   "source": [
    "dim(df)"
   ]
  },
  {
   "cell_type": "code",
   "execution_count": 6,
   "id": "084592e9",
   "metadata": {
    "scrolled": false
   },
   "outputs": [
    {
     "data": {
      "text/html": [
       "<ol class=list-inline>\n",
       "\t<li>'age'</li>\n",
       "\t<li>'sex'</li>\n",
       "\t<li>'bmi'</li>\n",
       "\t<li>'children'</li>\n",
       "\t<li>'smoker'</li>\n",
       "\t<li>'region'</li>\n",
       "\t<li>'charges'</li>\n",
       "</ol>\n"
      ],
      "text/latex": [
       "\\begin{enumerate*}\n",
       "\\item 'age'\n",
       "\\item 'sex'\n",
       "\\item 'bmi'\n",
       "\\item 'children'\n",
       "\\item 'smoker'\n",
       "\\item 'region'\n",
       "\\item 'charges'\n",
       "\\end{enumerate*}\n"
      ],
      "text/markdown": [
       "1. 'age'\n",
       "2. 'sex'\n",
       "3. 'bmi'\n",
       "4. 'children'\n",
       "5. 'smoker'\n",
       "6. 'region'\n",
       "7. 'charges'\n",
       "\n",
       "\n"
      ],
      "text/plain": [
       "[1] \"age\"      \"sex\"      \"bmi\"      \"children\" \"smoker\"   \"region\"   \"charges\" "
      ]
     },
     "metadata": {},
     "output_type": "display_data"
    }
   ],
   "source": [
    "names(df)"
   ]
  },
  {
   "cell_type": "code",
   "execution_count": 7,
   "id": "95f13947",
   "metadata": {
    "scrolled": false
   },
   "outputs": [
    {
     "data": {
      "text/plain": [
       "      age            sex           bmi           children     smoker    \n",
       " Min.   :18.00   female:662   Min.   :15.96   Min.   :0.000   no :1064  \n",
       " 1st Qu.:27.00   male  :676   1st Qu.:26.30   1st Qu.:0.000   yes: 274  \n",
       " Median :39.00                Median :30.40   Median :1.000             \n",
       " Mean   :39.21                Mean   :30.66   Mean   :1.095             \n",
       " 3rd Qu.:51.00                3rd Qu.:34.69   3rd Qu.:2.000             \n",
       " Max.   :64.00                Max.   :53.13   Max.   :5.000             \n",
       "       region       charges     \n",
       " northeast:324   Min.   : 1122  \n",
       " northwest:325   1st Qu.: 4740  \n",
       " southeast:364   Median : 9382  \n",
       " southwest:325   Mean   :13270  \n",
       "                 3rd Qu.:16640  \n",
       "                 Max.   :63770  "
      ]
     },
     "metadata": {},
     "output_type": "display_data"
    }
   ],
   "source": [
    "summary(df)"
   ]
  },
  {
   "cell_type": "markdown",
   "id": "65a39a95",
   "metadata": {},
   "source": [
    "# Data exploration"
   ]
  },
  {
   "cell_type": "markdown",
   "id": "d540bbf0",
   "metadata": {},
   "source": [
    "This section is about exploring the data by scatter plots, box plots, and correlations to find out relations between attributes. The findings shall be used in the later phase for building models."
   ]
  },
  {
   "cell_type": "markdown",
   "id": "320dd05b",
   "metadata": {},
   "source": [
    "## Visualising data: "
   ]
  },
  {
   "cell_type": "code",
   "execution_count": 8,
   "id": "7072ed02",
   "metadata": {
    "scrolled": false
   },
   "outputs": [
    {
     "data": {
      "image/png": "[encoded data removed]",
      "text/plain": [
       "Plot with title \"Age vs Charges\""
      ]
     },
     "metadata": {},
     "output_type": "display_data"
    }
   ],
   "source": [
    "scatter1 <- plot(df$age, df$charges, main = \"Age vs Charges\", xlab = \"age\", ylab = \"charges\",\n",
    "     col = alpha('blue',0.5), pch=20)"
   ]
  },
  {
   "cell_type": "code",
   "execution_count": 9,
   "id": "0c6b3b1a",
   "metadata": {
    "scrolled": false
   },
   "outputs": [
    {
     "data": {
      "image/png": "[encoded data removed]",
      "text/plain": [
       "Plot with title \"BMI vs Charges\""
      ]
     },
     "metadata": {},
     "output_type": "display_data"
    }
   ],
   "source": [
    "scatter2 <- plot(df$bmi, df$charges, main = \"BMI vs Charges\", xlab = \"bmi\", ylab = \"charges\",\n",
    "     col = alpha('dark green',0.5), pch=20)"
   ]
  },
  {
   "cell_type": "code",
   "execution_count": 10,
   "id": "ccce84a5",
   "metadata": {
    "scrolled": false
   },
   "outputs": [
    {
     "data": {
      "image/png": "[encoded data removed]",
      "text/plain": [
       "Plot with title \"Children vs Charges\""
      ]
     },
     "metadata": {},
     "output_type": "display_data"
    }
   ],
   "source": [
    "scatter3 <- plot(df$children, df$charges, main = \"Children vs Charges\", xlab = \"children\", ylab = \"charges\",\n",
    "     col = alpha('red',0.5), pch=20)"
   ]
  },
  {
   "cell_type": "markdown",
   "id": "45b7b3b3",
   "metadata": {},
   "source": [
    "Regarding the scatter plots, we can notice that age and charges share an increasing trend. \n",
    "\n",
    "While in BMI vs charge, the trend is less visible, but as bmi increase, there is a higher number of occurence of samples with more expensive charge. The correlation between the number of children and charge is not remarkable."
   ]
  },
  {
   "cell_type": "code",
   "execution_count": 11,
   "id": "4cc337a5",
   "metadata": {
    "scrolled": false
   },
   "outputs": [
    {
     "data": {
      "image/png": "[encoded data removed]",
      "text/plain": [
       "Plot with title \"Boxplot grouped by smoker\""
      ]
     },
     "metadata": {},
     "output_type": "display_data"
    }
   ],
   "source": [
    "boxplot(df$charges ~ df$smoker, xlab = 'smoker', ylab = 'charges', \n",
    "        col ='burlywood', main = 'Boxplot grouped by smoker')"
   ]
  },
  {
   "cell_type": "code",
   "execution_count": 12,
   "id": "4ac44e4f",
   "metadata": {
    "scrolled": false
   },
   "outputs": [
    {
     "data": {
      "image/png": "[encoded data removed]",
      "text/plain": [
       "Plot with title \"Boxplot grouped by sex\""
      ]
     },
     "metadata": {},
     "output_type": "display_data"
    }
   ],
   "source": [
    "boxplot(df$charges ~ df$sex, xlab = 'sex', ylab = 'charges', \n",
    "        col ='aquamarine', main = 'Boxplot grouped by sex')"
   ]
  },
  {
   "cell_type": "code",
   "execution_count": 13,
   "id": "d4cfd4b5",
   "metadata": {
    "scrolled": false
   },
   "outputs": [
    {
     "data": {
      "image/png": "[encoded data removed]",
      "text/plain": [
       "Plot with title \"Boxplot grouped by region\""
      ]
     },
     "metadata": {},
     "output_type": "display_data"
    }
   ],
   "source": [
    "boxplot(df$charges ~ df$region, xlab = 'region', ylab = 'charges', \n",
    "        col ='chartreuse', main = 'Boxplot grouped by region')\n"
   ]
  },
  {
   "cell_type": "markdown",
   "id": "84214e89",
   "metadata": {},
   "source": [
    "Smokers have much higher medical expenses than non-smokers.This should be regarded as an important factor. On the contrary, gender and region have no significant influences on the charges"
   ]
  },
  {
   "cell_type": "markdown",
   "id": "b9d9119d",
   "metadata": {},
   "source": [
    "## Correlation: "
   ]
  },
  {
   "cell_type": "code",
   "execution_count": 14,
   "id": "19b74aa6",
   "metadata": {
    "scrolled": false
   },
   "outputs": [
    {
     "data": {
      "image/png": "[encoded data removed]",
      "text/plain": [
       "plot without title"
      ]
     },
     "metadata": {},
     "output_type": "display_data"
    }
   ],
   "source": [
    "#Temporarily convert categorical to numeric \n",
    "df2 <- data.frame(df)\n",
    "label <- LabelEncoder$new()\n",
    "df2$smoker <- label$fit_transform(df2$smoker)\n",
    "df2$sex <- label$fit_transform(df2$sex)\n",
    "df2$region <- label$fit_transform(df2$region)\n",
    "\n",
    "cormat <- round(cor(df2),2)\n",
    "\n",
    "cormat[upper.tri(cormat)] <- NA #replace upper triangle of the matrix by NaN\n",
    "melted_cormat <- melt(cormat, na.rm = TRUE)\n",
    "ggplot(data = melted_cormat, aes(Var2, Var1, fill = value))+\n",
    "  geom_tile(color = \"white\")+\n",
    "  scale_fill_gradient2(low = \"blue\", high = \"red\", mid = \"white\", \n",
    "                       midpoint = 0, limit = c(-1,1), space = \"Lab\", \n",
    "                       name=\"Pearson\\nCorrelation\") +\n",
    "  theme_minimal()+ \n",
    "  theme(axis.text.x = element_text(angle = 45, vjust = 1, \n",
    "                                   size = 8, hjust = 1))+\n",
    "  coord_fixed() +\n",
    "  geom_text(aes(Var2, Var1, label = value), color = \"black\", size = 3) +\n",
    "  theme(\n",
    "    axis.title.x = element_blank(),\n",
    "    axis.title.y = element_blank(),\n",
    "    panel.grid.major = element_blank(),\n",
    "    panel.border = element_blank(),\n",
    "    panel.background = element_blank(),\n",
    "    axis.ticks = element_blank(),\n",
    "    legend.direction = \"vertical\")"
   ]
  },
  {
   "cell_type": "markdown",
   "id": "eba4a0ab",
   "metadata": {},
   "source": [
    "As can be seen from the heatmap, smoker have high degree of correlation to charges. Also, age have moderate correlation, followed by BMI. Other attributes have low to almost no correlation to Charges."
   ]
  },
  {
   "cell_type": "markdown",
   "id": "57e91fbc",
   "metadata": {},
   "source": [
    "# Model & hypotheses"
   ]
  },
  {
   "cell_type": "markdown",
   "id": "1f8379fb",
   "metadata": {},
   "source": [
    "In this section, we will build linear regression models to predict the personal medical charges. Also, the models will be compared and evaluate so that we can choose the best-fit one.\n",
    "\n",
    "As inferred from previous section, age, BMI, smoking have the highest correlation to charges among all attributes. Therefore, the initial multiple regression model would be:\n",
    "\n",
    "charges ~ age + bmi + smoker\n",
    "\n",
    "From the above formula, we build a regression model using R’s lm() function. The snapshot below is the model summary, and we will explain and interpret some of the coefficients.\n"
   ]
  },
  {
   "cell_type": "code",
   "execution_count": 15,
   "id": "8f1b9d82",
   "metadata": {
    "scrolled": false
   },
   "outputs": [
    {
     "data": {
      "text/plain": [
       "\n",
       "Call:\n",
       "lm(formula = charges ~ age + bmi + smoker, data = df)\n",
       "\n",
       "Residuals:\n",
       "     Min       1Q   Median       3Q      Max \n",
       "-12415.4  -2970.9   -980.5   1480.0  28971.8 \n",
       "\n",
       "Coefficients:\n",
       "             Estimate Std. Error t value Pr(>|t|)    \n",
       "(Intercept) -11676.83     937.57  -12.45   <2e-16 ***\n",
       "age            259.55      11.93   21.75   <2e-16 ***\n",
       "bmi            322.62      27.49   11.74   <2e-16 ***\n",
       "smokeryes    23823.68     412.87   57.70   <2e-16 ***\n",
       "---\n",
       "Signif. codes:  0 '***' 0.001 '**' 0.01 '*' 0.05 '.' 0.1 ' ' 1\n",
       "\n",
       "Residual standard error: 6092 on 1334 degrees of freedom\n",
       "Multiple R-squared:  0.7475,\tAdjusted R-squared:  0.7469 \n",
       "F-statistic:  1316 on 3 and 1334 DF,  p-value: < 2.2e-16\n"
      ]
     },
     "metadata": {},
     "output_type": "display_data"
    }
   ],
   "source": [
    "r1 <- lm(charges ~ age + bmi + smoker, data = df)\n",
    "summary(r1)"
   ]
  },
  {
   "cell_type": "markdown",
   "id": "79e9bbf7",
   "metadata": {},
   "source": [
    "* The model for predicting charges using smoking, age, BMI is:\n",
    "\n",
    "   **charges = -11676.83 + (259.55 * age) + (322.62 * BMI) + (238223.68 * smoker) + error.**\n",
    "\n",
    "* From the *Pr(>|t|)* values, we are can support the claim that age, bmi and smoking have significant influence on charges.\n",
    "\n",
    "* Multiple R-squared is 0.7475. This value represents the square R between age and charges and indicates that 74.75% of the variation in the outcome variable charges can be explained by the predictors. \n",
    "\n",
    "* The adjusted R-square (0.7494) is almost equal to the multiple R-square. This is due to the fact that this is a relatively simple model with only three explanatory variables.\n",
    "\n",
    "* From the Fstatistic result (p-value << 0.001), we can conclude that the model is good and that the predictor variables are all significant. "
   ]
  },
  {
   "cell_type": "markdown",
   "id": "6a4b092b",
   "metadata": {},
   "source": [
    "Next, we try to improve this model by including the predictor variables sex, children and region. "
   ]
  },
  {
   "cell_type": "code",
   "execution_count": 16,
   "id": "1d2e7cf1",
   "metadata": {
    "scrolled": false
   },
   "outputs": [
    {
     "data": {
      "text/plain": [
       "\n",
       "Call:\n",
       "lm(formula = charges ~ age + bmi + children + region + sex + \n",
       "    smoker, data = df)\n",
       "\n",
       "Residuals:\n",
       "     Min       1Q   Median       3Q      Max \n",
       "-11304.9  -2848.1   -982.1   1393.9  29992.8 \n",
       "\n",
       "Coefficients:\n",
       "                Estimate Std. Error t value Pr(>|t|)    \n",
       "(Intercept)     -11938.5      987.8 -12.086  < 2e-16 ***\n",
       "age                256.9       11.9  21.587  < 2e-16 ***\n",
       "bmi                339.2       28.6  11.860  < 2e-16 ***\n",
       "children           475.5      137.8   3.451 0.000577 ***\n",
       "regionnorthwest   -353.0      476.3  -0.741 0.458769    \n",
       "regionsoutheast  -1035.0      478.7  -2.162 0.030782 *  \n",
       "regionsouthwest   -960.0      477.9  -2.009 0.044765 *  \n",
       "sexmale           -131.3      332.9  -0.394 0.693348    \n",
       "smokeryes        23848.5      413.1  57.723  < 2e-16 ***\n",
       "---\n",
       "Signif. codes:  0 '***' 0.001 '**' 0.01 '*' 0.05 '.' 0.1 ' ' 1\n",
       "\n",
       "Residual standard error: 6062 on 1329 degrees of freedom\n",
       "Multiple R-squared:  0.7509,\tAdjusted R-squared:  0.7494 \n",
       "F-statistic: 500.8 on 8 and 1329 DF,  p-value: < 2.2e-16\n"
      ]
     },
     "metadata": {},
     "output_type": "display_data"
    }
   ],
   "source": [
    "r2 <- lm(charges ~ age + bmi + children + region + sex + smoker, data = df)\n",
    "summary(r2)"
   ]
  },
  {
   "cell_type": "markdown",
   "id": "4cb8db1b",
   "metadata": {},
   "source": [
    "In this updated model the multiple R square is 0.7509, meaning that the new model explains 75.09 of the variation in charges. \n",
    "\n",
    "Looking at the coefficients, we find that sex attribute is not significant (p-value is 0.69). Therefore, we remove the attribute sex from the model and reevaluate it.\n"
   ]
  },
  {
   "cell_type": "code",
   "execution_count": 17,
   "id": "ef128b89",
   "metadata": {
    "scrolled": false
   },
   "outputs": [
    {
     "data": {
      "text/plain": [
       "\n",
       "Call:\n",
       "lm(formula = charges ~ age + bmi + children + region + smoker, \n",
       "    data = df)\n",
       "\n",
       "Residuals:\n",
       "     Min       1Q   Median       3Q      Max \n",
       "-11367.2  -2835.4   -979.7   1361.9  29935.5 \n",
       "\n",
       "Coefficients:\n",
       "                 Estimate Std. Error t value Pr(>|t|)    \n",
       "(Intercept)     -11990.27     978.76 -12.250  < 2e-16 ***\n",
       "age                256.97      11.89  21.610  < 2e-16 ***\n",
       "bmi                338.66      28.56  11.858  < 2e-16 ***\n",
       "children           474.57     137.74   3.445 0.000588 ***\n",
       "regionnorthwest   -352.18     476.12  -0.740 0.459618    \n",
       "regionsoutheast  -1034.36     478.54  -2.162 0.030834 *  \n",
       "regionsouthwest   -959.37     477.78  -2.008 0.044846 *  \n",
       "smokeryes        23836.30     411.86  57.875  < 2e-16 ***\n",
       "---\n",
       "Signif. codes:  0 '***' 0.001 '**' 0.01 '*' 0.05 '.' 0.1 ' ' 1\n",
       "\n",
       "Residual standard error: 6060 on 1330 degrees of freedom\n",
       "Multiple R-squared:  0.7509,\tAdjusted R-squared:  0.7496 \n",
       "F-statistic: 572.7 on 7 and 1330 DF,  p-value: < 2.2e-16\n"
      ]
     },
     "metadata": {},
     "output_type": "display_data"
    }
   ],
   "source": [
    "r3 <- lm(charges ~ age + bmi + children + region + smoker, data = df)\n",
    "summary(r3)"
   ]
  },
  {
   "cell_type": "markdown",
   "id": "418a60fd",
   "metadata": {},
   "source": [
    "After removing attribute sex from the model, we can observe that the model still explains 75.09 per cent of the variation in charges. Next, we will compare the initial model and the current one using ANOVA."
   ]
  },
  {
   "cell_type": "markdown",
   "id": "6ac114c8",
   "metadata": {},
   "source": [
    "### ANOVA"
   ]
  },
  {
   "cell_type": "code",
   "execution_count": 18,
   "id": "0f8a2f74",
   "metadata": {
    "scrolled": false
   },
   "outputs": [
    {
     "data": {
      "text/html": [
       "<table>\n",
       "<thead><tr><th scope=col>Res.Df</th><th scope=col>RSS</th><th scope=col>Df</th><th scope=col>Sum of Sq</th><th scope=col>F</th><th scope=col>Pr(&gt;F)</th></tr></thead>\n",
       "<tbody>\n",
       "\t<tr><td>1334       </td><td>49513219514</td><td>NA         </td><td>       NA  </td><td>      NA   </td><td>         NA</td></tr>\n",
       "\t<tr><td>1330       </td><td>48845249273</td><td> 4         </td><td>667970241  </td><td>4.547015   </td><td>0.001191318</td></tr>\n",
       "</tbody>\n",
       "</table>\n"
      ],
      "text/latex": [
       "\\begin{tabular}{r|llllll}\n",
       " Res.Df & RSS & Df & Sum of Sq & F & Pr(>F)\\\\\n",
       "\\hline\n",
       "\t 1334        & 49513219514 & NA          &        NA   &       NA    &          NA\\\\\n",
       "\t 1330        & 48845249273 &  4          & 667970241   & 4.547015    & 0.001191318\\\\\n",
       "\\end{tabular}\n"
      ],
      "text/markdown": [
       "\n",
       "| Res.Df | RSS | Df | Sum of Sq | F | Pr(>F) |\n",
       "|---|---|---|---|---|---|\n",
       "| 1334        | 49513219514 | NA          |        NA   |       NA    |          NA |\n",
       "| 1330        | 48845249273 |  4          | 667970241   | 4.547015    | 0.001191318 |\n",
       "\n"
      ],
      "text/plain": [
       "  Res.Df RSS         Df Sum of Sq F        Pr(>F)     \n",
       "1 1334   49513219514 NA        NA       NA          NA\n",
       "2 1330   48845249273  4 667970241 4.547015 0.001191318"
      ]
     },
     "metadata": {},
     "output_type": "display_data"
    }
   ],
   "source": [
    "anova(r1, r3)"
   ]
  },
  {
   "cell_type": "markdown",
   "id": "0873bf7f",
   "metadata": {},
   "source": [
    "The p-value is significant (0.001 < 0.01), so we conclude that our third model provides a better fit than our initial model."
   ]
  },
  {
   "cell_type": "code",
   "execution_count": 19,
   "id": "a6bf6aab",
   "metadata": {},
   "outputs": [
    {
     "data": {
      "text/html": [
       "<table>\n",
       "<thead><tr><th scope=col>Res.Df</th><th scope=col>RSS</th><th scope=col>Df</th><th scope=col>Sum of Sq</th><th scope=col>F</th><th scope=col>Pr(&gt;F)</th></tr></thead>\n",
       "<tbody>\n",
       "\t<tr><td>1329       </td><td>48839532844</td><td>NA         </td><td>      NA   </td><td>      NA   </td><td>       NA  </td></tr>\n",
       "\t<tr><td>1330       </td><td>48845249273</td><td>-1         </td><td>-5716429   </td><td>0.155553   </td><td>0.6933475  </td></tr>\n",
       "</tbody>\n",
       "</table>\n"
      ],
      "text/latex": [
       "\\begin{tabular}{r|llllll}\n",
       " Res.Df & RSS & Df & Sum of Sq & F & Pr(>F)\\\\\n",
       "\\hline\n",
       "\t 1329        & 48839532844 & NA          &       NA    &       NA    &        NA  \\\\\n",
       "\t 1330        & 48845249273 & -1          & -5716429    & 0.155553    & 0.6933475  \\\\\n",
       "\\end{tabular}\n"
      ],
      "text/markdown": [
       "\n",
       "| Res.Df | RSS | Df | Sum of Sq | F | Pr(>F) |\n",
       "|---|---|---|---|---|---|\n",
       "| 1329        | 48839532844 | NA          |       NA    |       NA    |        NA   |\n",
       "| 1330        | 48845249273 | -1          | -5716429    | 0.155553    | 0.6933475   |\n",
       "\n"
      ],
      "text/plain": [
       "  Res.Df RSS         Df Sum of Sq F        Pr(>F)   \n",
       "1 1329   48839532844 NA       NA        NA        NA\n",
       "2 1330   48845249273 -1 -5716429  0.155553 0.6933475"
      ]
     },
     "metadata": {},
     "output_type": "display_data"
    }
   ],
   "source": [
    "anova(r2, r3)"
   ]
  },
  {
   "cell_type": "markdown",
   "id": "885e933b",
   "metadata": {},
   "source": [
    "Comparing the second and the third model, the p-value is non-significant (0.69 >> 0.01). Therefore, we conclude that there is no significant difference between two models’ performances. \n",
    "\n",
    "Since the third model has one less variable than the second model, we decide that the former is the most prominent. \n"
   ]
  },
  {
   "cell_type": "markdown",
   "id": "c1c717ea",
   "metadata": {},
   "source": [
    "### Standardized residual"
   ]
  },
  {
   "cell_type": "code",
   "execution_count": 20,
   "id": "e7538500",
   "metadata": {
    "scrolled": false
   },
   "outputs": [
    {
     "data": {
      "text/html": [
       "0.0500747384155456"
      ],
      "text/latex": [
       "0.0500747384155456"
      ],
      "text/markdown": [
       "0.0500747384155456"
      ],
      "text/plain": [
       "[1] 0.05007474"
      ]
     },
     "metadata": {},
     "output_type": "display_data"
    }
   ],
   "source": [
    "standard_res <- rstandard(r3)\n",
    "sum(standard_res < -2 | standard_res >2)/ length(standard_res)"
   ]
  },
  {
   "cell_type": "code",
   "execution_count": 21,
   "id": "8bbc5a8d",
   "metadata": {},
   "outputs": [
    {
     "data": {
      "text/html": [
       "0.0209267563527653"
      ],
      "text/latex": [
       "0.0209267563527653"
      ],
      "text/markdown": [
       "0.0209267563527653"
      ],
      "text/plain": [
       "[1] 0.02092676"
      ]
     },
     "metadata": {},
     "output_type": "display_data"
    }
   ],
   "source": [
    "sum(standard_res < -3 | standard_res >3)/ length(standard_res)"
   ]
  },
  {
   "cell_type": "markdown",
   "id": "76db0197",
   "metadata": {},
   "source": [
    "Upon calculation, the proportion of samples with an absolute value of standardized residual greater than 2 is 5.01 percent, and greater than 3 is 2.1 percent. This rate is of outliers is acceptable."
   ]
  },
  {
   "cell_type": "markdown",
   "id": "f0d68012",
   "metadata": {},
   "source": [
    "### Variance Inflation Factor"
   ]
  },
  {
   "cell_type": "markdown",
   "id": "feb42131",
   "metadata": {},
   "source": [
    "The table below shows the VIF test result. A VIF higher than 5 indicates high correlation. Since none of the VIF values is higher than 5, we can claim that there is no multicolinearity."
   ]
  },
  {
   "cell_type": "code",
   "execution_count": 22,
   "id": "68c46cf6",
   "metadata": {
    "scrolled": false
   },
   "outputs": [
    {
     "data": {
      "text/html": [
       "<table>\n",
       "<thead><tr><th></th><th scope=col>GVIF</th><th scope=col>Df</th><th scope=col>GVIF^(1/(2*Df))</th></tr></thead>\n",
       "<tbody>\n",
       "\t<tr><th scope=row>age</th><td>1.016188</td><td>1       </td><td>1.008061</td></tr>\n",
       "\t<tr><th scope=row>bmi</th><td>1.104197</td><td>1       </td><td>1.050808</td></tr>\n",
       "\t<tr><th scope=row>children</th><td>1.003714</td><td>1       </td><td>1.001855</td></tr>\n",
       "\t<tr><th scope=row>region</th><td>1.098870</td><td>3       </td><td>1.015838</td></tr>\n",
       "\t<tr><th scope=row>smoker</th><td>1.006369</td><td>1       </td><td>1.003179</td></tr>\n",
       "</tbody>\n",
       "</table>\n"
      ],
      "text/latex": [
       "\\begin{tabular}{r|lll}\n",
       "  & GVIF & Df & GVIF\\textasciicircum{}(1/(2*Df))\\\\\n",
       "\\hline\n",
       "\tage & 1.016188 & 1        & 1.008061\\\\\n",
       "\tbmi & 1.104197 & 1        & 1.050808\\\\\n",
       "\tchildren & 1.003714 & 1        & 1.001855\\\\\n",
       "\tregion & 1.098870 & 3        & 1.015838\\\\\n",
       "\tsmoker & 1.006369 & 1        & 1.003179\\\\\n",
       "\\end{tabular}\n"
      ],
      "text/markdown": [
       "\n",
       "| <!--/--> | GVIF | Df | GVIF^(1/(2*Df)) |\n",
       "|---|---|---|---|\n",
       "| age | 1.016188 | 1        | 1.008061 |\n",
       "| bmi | 1.104197 | 1        | 1.050808 |\n",
       "| children | 1.003714 | 1        | 1.001855 |\n",
       "| region | 1.098870 | 3        | 1.015838 |\n",
       "| smoker | 1.006369 | 1        | 1.003179 |\n",
       "\n"
      ],
      "text/plain": [
       "         GVIF     Df GVIF^(1/(2*Df))\n",
       "age      1.016188 1  1.008061       \n",
       "bmi      1.104197 1  1.050808       \n",
       "children 1.003714 1  1.001855       \n",
       "region   1.098870 3  1.015838       \n",
       "smoker   1.006369 1  1.003179       "
      ]
     },
     "metadata": {},
     "output_type": "display_data"
    }
   ],
   "source": [
    "vif(r3)"
   ]
  },
  {
   "cell_type": "markdown",
   "id": "1e78d202",
   "metadata": {},
   "source": [
    "### Residualplot & QQ plot"
   ]
  },
  {
   "cell_type": "code",
   "execution_count": 23,
   "id": "55dcbb03",
   "metadata": {
    "scrolled": false
   },
   "outputs": [
    {
     "data": {
      "image/png": "[encoded data removed]",
      "text/plain": [
       "Plot with title \"\""
      ]
     },
     "metadata": {},
     "output_type": "display_data"
    },
    {
     "data": {
      "image/png": "[encoded data removed]",
      "text/plain": [
       "Plot with title \"\""
      ]
     },
     "metadata": {},
     "output_type": "display_data"
    },
    {
     "data": {
      "image/png": "[encoded data removed]",
      "text/plain": [
       "Plot with title \"\""
      ]
     },
     "metadata": {},
     "output_type": "display_data"
    },
    {
     "data": {
      "image/png": "[encoded data removed]",
      "text/plain": [
       "Plot with title \"\""
      ]
     },
     "metadata": {},
     "output_type": "display_data"
    }
   ],
   "source": [
    "c <- plot(r3)"
   ]
  },
  {
   "cell_type": "markdown",
   "id": "7941bb85",
   "metadata": {},
   "source": [
    "In the Residual vs fitted, the dots seem not to be randomly placed around the horizontal zero line. There are there distinguishable groups. Our conclusion is that there might be other factors that are not taken into account of, which means there is an additional varible (perhaps a categorical one with 3 categories) that is not included in the dataset.\n",
    "\n",
    "There might also be a non-linear relationship between the charge and the predictor variables. This will be inspected in the following plot.\n"
   ]
  },
  {
   "cell_type": "markdown",
   "id": "f34dd225",
   "metadata": {},
   "source": [
    "The non-linear relationship is also reflected by the second plot (Q-Q plot) since the dots deviate from the dotted line."
   ]
  },
  {
   "cell_type": "markdown",
   "id": "f9aaa869",
   "metadata": {},
   "source": [
    "# Results & Conclusion\n",
    "From the research, we find that age, BMI, number of children, and smoking are the most influential factors to a person’s medical charge. Among this smoking seems to affect the most on the medical expenses. On the contrary, region and gender do not contribute much to the change in medical charges.\n",
    " \n",
    "Our final linear regression model explains 75% of the data, which is a good result. However, there seems to be non-linear relationships between healthcare cost and predictors. Also, there might be hidden patterns that are not explained by the data due to the lack of variables.\n"
   ]
  }
 ],
 "metadata": {
  "kernelspec": {
   "display_name": "R",
   "language": "R",
   "name": "ir"
  },
  "language_info": {
   "codemirror_mode": "r",
   "file_extension": ".r",
   "mimetype": "text/x-r-source",
   "name": "R",
   "pygments_lexer": "r",
   "version": "3.6.1"
  }
 },
 "nbformat": 4,
 "nbformat_minor": 5
}
